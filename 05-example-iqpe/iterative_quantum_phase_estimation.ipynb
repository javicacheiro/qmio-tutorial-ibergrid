{
 "cells": [
  {
   "cell_type": "markdown",
   "id": "91a98662-6364-4adf-a61d-9104a360054a",
   "metadata": {},
   "source": [
    "<center><img src=\"https://quantum.cesga.es/wp-content/uploads/2023/10/logo_Qmio_v5-azul-300x80.png\" /></center>"
   ]
  },
  {
   "cell_type": "markdown",
   "id": "3b21b71e-ac0d-4b2a-9661-d73a8b42e0e9",
   "metadata": {},
   "source": [
    "# Iteractive Quantum Phase Estimation"
   ]
  },
  {
   "cell_type": "markdown",
   "id": "06cb40d0-5de9-4b34-9170-3b60bcf71246",
   "metadata": {},
   "source": [
    "## Quantum Phase Estimation (QPE) Algorithm\n",
    "\n",
    "The **Quantum Phase Estimation (QPE)** algorithm is one of the most important quantum algorithms, designed to estimate the phase (or eigenvalue) associated with a given unitary operator $ U $. This algorithm is crucial because many quantum algorithms reduce to problems of phase estimation, especially in fields like quantum chemistry, cryptography, and linear algebra. Understanding how to estimate the eigenvalues of a unitary operator allows us to solve problems that are intractable with classical computers, such as factoring large numbers (used in Shor's algorithm), or simulating quantum systems.\n",
    "\n",
    "### Problem Setup\n",
    "\n",
    "Given a unitary operator $ U $, QPE aims to find an eigenvalue $ \\phi $ such that:\n",
    "\n",
    "$$\n",
    "U | \\psi \\rangle = e^{2 \\pi i \\phi} | \\psi \\rangle\n",
    "$$\n",
    "\n",
    "Where:\n",
    "- $ | \\psi \\rangle $ is an eigenvector of $ U $.\n",
    "- $ \\phi $ is the phase of the eigenvalue we wish to estimate. It is a real number between 0 and 1, ie. $\\phi \\in [0, 1)$, which can be written in binary form as $ \\phi = 0.\\phi_1 \\phi_2 \\dots \\phi_n $.\n",
    " \n",
    "\n",
    "### Why is QPE Important?\n",
    "\n",
    "The Quantum Phase Estimation algorithm is crucial for a variety of quantum algorithms:\n",
    "\n",
    "1. **Shor's Algorithm**: QPE is an integral part of Shor's algorithm, where it is used to compute the periodicity of modular exponentiation. The ability to efficiently compute the phase (or period) allows for the efficient factoring of large numbers, which is vital for breaking widely used cryptographic schemes like RSA.\n",
    "\n",
    "2. **Quantum Simulations**: Many problems in quantum chemistry and physics require estimating the eigenvalues of Hamiltonians (energy states). QPE is the backbone of such simulations and an alternative to the **Variational Quantum Eigensolver (VQE)** method.\n",
    "\n",
    "3. **Solving Linear Systems of Equations**: The **Harrow-Hassidim-Lloyd (HHL) algorithm** relies on QPE to solve linear systems of equations. The algorithm encodes the matrix $ A $ as a unitary operation and uses QPE to extract information about the eigenvalues, allowing for a quantum speedup in solving large linear systems.\n",
    "\n",
    "4. **Quantum Machine Learning**: Several quantum algorithms for machine learning, such as **Quantum Principal Component Analysis (QPCA)**, involve eigenvalue estimation. In QPCA, QPE helps estimate the eigenvalues of a density matrix, allowing for dimensionality reduction on quantum data.\n",
    "\n",
    "In all of these cases, the role of QPE is to estimate eigenvalues, which are typically related to important properties of the system being modeled. For instance, in quantum chemistry, eigenvalues correspond to energy levels of molecules, which are critical for predicting chemical reactions.\n",
    "\n",
    "### Steps of the Algorithm\n",
    "\n",
    "1. **Quantum Registers**:\n",
    "   - **First register (ancilla qubits)**: This register is used for phase estimation and contains $ n $ qubits.\n",
    "   - **Second register**: This register contains the eigenstate $ | \\psi \\rangle $ of the unitary operator $ U $. In practice, we assume $ | \\psi \\rangle $ is an eigenstate or close to one.\n",
    "\n",
    "2. **Initialize the Registers**:\n",
    "   - The first register is initialized in the $ | 0 \\rangle^{\\otimes n} $ state, and a Hadamard transform is applied to each qubit, creating a uniform superposition:\n",
    "     $$\n",
    "     \\frac{1}{\\sqrt{2^n}} \\sum_{k=0}^{2^n-1} | k \\rangle\n",
    "     $$\n",
    "   - The second register is initialized in the eigenstate $ | \\psi \\rangle $.\n",
    "\n",
    "3. **Controlled Unitary Operations**:\n",
    "   The next step is to apply controlled versions of the unitary $ U $ on the second register. Specifically, for each qubit in the first register, we apply controlled-$ U^{2^j} $, where $ j $ ranges from 0 to $ n-1 $.\n",
    "\n",
    "   Mathematically, this step entangles the first and second registers, and the overall state becomes:\n",
    "   $$\n",
    "   \\frac{1}{\\sqrt{2^n}} \\sum_{k=0}^{2^n-1} | k \\rangle \\otimes U^k | \\psi \\rangle\n",
    "   $$\n",
    "\n",
    "   Since $ U | \\psi \\rangle = e^{2 \\pi i \\phi} | \\psi \\rangle $, applying $ U^k $ results in a phase $ e^{2 \\pi i k \\phi} $, giving us:\n",
    "   $$\n",
    "   \\frac{1}{\\sqrt{2^n}} \\sum_{k=0}^{2^n-1} e^{2 \\pi i k \\phi} | k \\rangle \\otimes | \\psi \\rangle\n",
    "   $$\n",
    "\n",
    "4. **Quantum Fourier Transform (QFT)**:\n",
    "   After the controlled operations, the quantum Fourier transform (QFT) is applied to the first register. This operation allows us to extract the phase $ \\phi $ from the entangled state.\n",
    "\n",
    "   The QFT essentially transforms the state $ \\sum_{k} e^{2 \\pi i k \\phi} | k \\rangle $ into a state where the probability of measuring the first register peaks at a binary approximation of the phase $ \\phi $.\n",
    "\n",
    "5. **Measurement**:\n",
    "   Finally, measuring the first register yields an estimate of the phase $ \\phi $ in binary form. If enough qubits were used (i.e., if $ n $ is large enough), the estimate will be accurate to several decimal places.\n",
    "\n",
    "### Intuition Behind the Algorithm\n",
    "\n",
    "The key idea is that the controlled operations entangle the phase information into the first register, and the QFT on this register efficiently extracts that phase. By performing the measurement after QFT, we can read out the phase to a high precision.\n",
    "\n",
    "### Example: Estimating $ \\phi = 0.101 $\n",
    "\n",
    "1. If $ \\phi = 0.101 $ in binary, we apply the QPE algorithm with 3 qubits in the first register.\n",
    "2. After the controlled unitary operations and QFT, the first register would hold an approximation of the binary number $ 0.101 $.\n",
    "3. Measurement of the first register might give a result close to $ 0.101 $, such as $ 101_2 $ (which equals $ 5/8 $).\n",
    "\n",
    "### Applications Recap:\n",
    "- **Shor's Algorithm**: Uses QPE to compute the period in factoring large numbers.\n",
    "- **HHL Algorithm**: Solves linear systems of equations using QPE.\n",
    "- **Quantum Chemistry**: Estimates eigenvalues of molecular Hamiltonians, critical for simulating quantum systems.\n",
    "- **Quantum Principal Component Analysis (QPCA)**: Uses QPE for dimensionality reduction on quantum datasets.\n",
    "\n",
    "The Quantum Phase Estimation algorithm is powerful because it enables quantum computers to solve problems by extracting phase information in an exponentially faster way compared to classical methods. It serves as the foundation for many advanced quantum algorithms, making it a key tool in quantum computation.\n"
   ]
  },
  {
   "cell_type": "markdown",
   "id": "40a2b92d-9b97-4fc7-b483-1b7bf9ebe658",
   "metadata": {},
   "source": [
    "## Demo"
   ]
  },
  {
   "cell_type": "markdown",
   "id": "b1222ef6-7407-4d62-9c1c-5f9344b69b2b",
   "metadata": {},
   "source": [
    "In quantum computing, the $ R_z(\\theta) $ gate is a rotation around the $ z $-axis of the Bloch sphere by an angle $ \\theta $. The matrix form of the $ R_z(\\theta) $ operator is:\n",
    "\n",
    "$$\n",
    "R_z(\\theta) =\n",
    "\\begin{pmatrix}\n",
    "e^{-i\\theta/2} & 0 \\\\\n",
    "0 & e^{i\\theta/2}\n",
    "\\end{pmatrix}\n",
    "$$\n",
    "\n",
    "This operation rotates the qubit's state vector by an angle $ \\theta $ around the $ z $-axis.\n",
    "\n",
    "$$R_z(\\theta)|0\\rangle = e^{-i\\theta/2}|0\\rangle$$\n",
    "$$R_z(\\theta)|1\\rangle = e^{i\\theta/2}|1\\rangle$$"
   ]
  },
  {
   "cell_type": "markdown",
   "id": "31feec30-4629-4426-a618-75d0169c417d",
   "metadata": {},
   "source": [
    "We will apply QPE to the following operator:\n",
    "\n",
    "<h3> $$U(\\theta) = R_z(\\theta) \\otimes R_z(\\theta)$$ </h3>"
   ]
  },
  {
   "cell_type": "markdown",
   "id": "5f04abef-b026-4877-96dd-4631d89f616f",
   "metadata": {},
   "source": [
    "Remember from the previous section, that given a unitary operator $ U $, QPE aims to find the phase $ \\phi $ of an eigenvalue such that:\n",
    "\n",
    "$$\n",
    "U | \\psi \\rangle = e^{2 \\pi i \\phi} | \\psi \\rangle\n",
    "$$\n",
    "\n",
    "Where:\n",
    "- $ | \\psi \\rangle $ is an eigenvector of $ U $.\n",
    "- $ \\phi $ is the phase of the eigenvalue we wish to estimate. It is a real number between 0 and 1, ie. $\\phi \\in [0, 1)$, which can be written in binary form as $ \\phi = 0.\\phi_1 \\phi_2 \\dots \\phi_n $."
   ]
  },
  {
   "cell_type": "markdown",
   "id": "55b4be30-a4db-4481-81f7-5d6cf6a91779",
   "metadata": {},
   "source": [
    "which has the following eigenvectors and eigenvalues:\n",
    "\n",
    "$$U(\\theta)|00\\rangle = e^{-i\\theta}|00\\rangle \\longrightarrow \\phi = \\frac{-\\theta}{2\\pi}$$\n",
    "\n",
    "$$U(\\theta)|01\\rangle = |01\\rangle \\longrightarrow \\phi = 0$$\n",
    "\n",
    "$$U(\\theta)|10\\rangle = |10\\rangle  \\longrightarrow \\phi = 0$$\n",
    "\n",
    "$$U(\\theta)|11\\rangle = e^{i\\theta}|00\\rangle \\longrightarrow \\phi = \\frac{\\theta}{2\\pi}$$"
   ]
  },
  {
   "cell_type": "markdown",
   "id": "8cf0cf23-df89-4dcf-b8dd-d9fe2ab602cd",
   "metadata": {},
   "source": [
    "It is possible to obtain the binary representation of $\\phi$ as:\n",
    "\n",
    "$$\\phi = \\frac{i_1}{2^1} + \\frac{i_2}{2^2} + \\frac{i_3}{2^3} + \\frac{i_4}{2^4} + \\frac{i_5}{2^5} + ....$$\n",
    "\n",
    "We will read the bits from right to left, so for the previous example the order will be:\n",
    "\n",
    "$$\\{i_5, i_4, i_3, i_2, i_1\\} $$</h3>"
   ]
  },
  {
   "cell_type": "markdown",
   "id": "4169930c-416e-4d81-802d-03cc029bbf91",
   "metadata": {},
   "source": [
    "In this tutorial, for QPE we will use a customized version of the **Iteractive Quantum Phase Estimation (IQPE)** algorihm that uses 3 qubits."
   ]
  },
  {
   "cell_type": "markdown",
   "id": "e4e0fc20-c201-4314-a6bc-5de0631bd5e6",
   "metadata": {
    "tags": []
   },
   "source": [
    "# Code"
   ]
  },
  {
   "cell_type": "code",
   "execution_count": 1,
   "id": "40106ee6-36b7-41a2-bbc9-11c7a8aa1988",
   "metadata": {},
   "outputs": [],
   "source": [
    "%matplotlib inline"
   ]
  },
  {
   "cell_type": "code",
   "execution_count": 2,
   "id": "1e99d639-eaf6-4427-84fa-2cba6c5cddd7",
   "metadata": {},
   "outputs": [],
   "source": [
    "from qiskit import QuantumCircuit, transpile\n",
    "from qiskit.circuit import Parameter\n",
    "from qiskit.visualization import plot_histogram\n",
    "\n",
    "from qmiotools.integrations.qiskitqmio import FakeQmio, QmioBackend\n",
    "from qiskit_aer import AerSimulator\n",
    "\n",
    "import numpy as np\n",
    "from IPython.display import display, Markdown"
   ]
  },
  {
   "cell_type": "code",
   "execution_count": 3,
   "id": "96e772c6-bff6-4573-9e34-93f51d6c09ed",
   "metadata": {},
   "outputs": [],
   "source": [
    "Theta = Parameter(\"$\\\\theta$\")\n",
    "\n",
    "Phase = Parameter(\"$\\psi_s$\")\n",
    "\n",
    "X_rot1 = Parameter(\"$X_1$\")\n",
    "X_rot2 = Parameter(\"$X_2$\")\n",
    "                   \n",
    "shots=200"
   ]
  },
  {
   "cell_type": "markdown",
   "id": "1552ff27-ac81-409c-b4a8-d24249c520ac",
   "metadata": {},
   "source": [
    "Number of bits of precission that we want:"
   ]
  },
  {
   "cell_type": "code",
   "execution_count": 4,
   "id": "531edeb0-6235-44a9-aea8-1010b0b3c9ab",
   "metadata": {},
   "outputs": [],
   "source": [
    "#n = 20\n",
    "n = 30\n",
    "#n = 40"
   ]
  },
  {
   "cell_type": "markdown",
   "id": "8ee751c5-0bf7-4703-ad3e-89d4a8e0d5f3",
   "metadata": {},
   "source": [
    "## Eigenstate to use"
   ]
  },
  {
   "cell_type": "markdown",
   "id": "f23e6d89-23a4-4d6c-a5c2-fcaba18f1c30",
   "metadata": {},
   "source": [
    "The state is defined in terms of $x1$ and $x2$, that represent the angles of rotation around the X axes. As you can see above they will be used as parameters for the $R_x$ rotation gate qubit 1 and qubit 2."
   ]
  },
  {
   "cell_type": "code",
   "execution_count": 5,
   "id": "41912159",
   "metadata": {},
   "outputs": [],
   "source": [
    "# Eigenstate |11>\n",
    "x1 = np.pi\n",
    "x2 = np.pi\n",
    "\n",
    "# Eigenstate |00>\n",
    "#x1 = 0\n",
    "#x2 = 0\n",
    "\n",
    "# Eigenstate |01>\n",
    "#x1 = 0\n",
    "#x2 = np.pi"
   ]
  },
  {
   "cell_type": "markdown",
   "id": "a50bcb73",
   "metadata": {},
   "source": [
    "## Value of the phase $\\phi$ that we want to estimate"
   ]
  },
  {
   "cell_type": "markdown",
   "id": "c6e0ca70-dd70-44da-9ecb-3d95e46d6d39",
   "metadata": {},
   "source": [
    "Define the value of the phase $\\phi$ we want to estimate:"
   ]
  },
  {
   "cell_type": "code",
   "execution_count": 6,
   "id": "aefa6ad1-244c-4aa2-b91f-a3eee5f62b62",
   "metadata": {},
   "outputs": [],
   "source": [
    "def binary_to_float(binary_str):\n",
    "    \"\"\"Convert a binary string with decimal part to float\"\"\"\n",
    "    int_part, dec_part = binary_str.split('.')\n",
    "    integer = int(int_part, base=2) if int_part else 0\n",
    "    decimal = sum(int(bit) * 2**(-i-1) for i, bit in enumerate(dec_part))\n",
    "    return integer + decimal"
   ]
  },
  {
   "cell_type": "markdown",
   "id": "d5f710c2-f44c-405d-aaad-ce29473749aa",
   "metadata": {},
   "source": [
    "$\\phi = 0.000100110101011100100001101111_2$"
   ]
  },
  {
   "cell_type": "code",
   "execution_count": 7,
   "id": "bbf5ce34-03d5-44d6-9247-62d45ca2c1c8",
   "metadata": {},
   "outputs": [
    {
     "name": "stdout",
     "output_type": "stream",
     "text": [
      "The phase to estimate is 0.075548275373876094818115234375\n",
      "For the estimation to be exact n should be 30\n"
     ]
    }
   ],
   "source": [
    "binary_str = \"0.000100110101011100100001101111\"\n",
    "\n",
    "phi = binary_to_float(binary_str)\n",
    "\n",
    "print(f\"The phase to estimate is {phi:.30f}\")\n",
    "print(\"For the estimation to be exact n should be\", len(binary_str) - 2)"
   ]
  },
  {
   "cell_type": "markdown",
   "id": "1cb4290c-33f2-4ca4-8158-dc6fd3b1a8f8",
   "metadata": {},
   "source": [
    "Other possible values that you can try for $\\phi$:\n",
    "\n",
    "$\\phi = 0.11...1_2$\n",
    "\n",
    "```python\n",
    "phi = 1 - 1/2**n\n",
    "```\n",
    "\n",
    "or you can select any arbitrary  $\\phi \\in [0, 1)$\n",
    "\n",
    "```python\n",
    "phi = 0.123456789\n",
    "```"
   ]
  },
  {
   "cell_type": "markdown",
   "id": "3b815a39-bf95-48ab-84d5-3d1809b4f657",
   "metadata": {},
   "source": [
    "Define the eigenstate that we want to use:"
   ]
  },
  {
   "cell_type": "code",
   "execution_count": 8,
   "id": "08b1ddb4-dc21-4981-8efd-208b9a58cbe4",
   "metadata": {},
   "outputs": [],
   "source": [
    "# The value of the phase to estimate will depend on the eigenstate that we are using\n",
    "if x1 == 0 and x2 == 0:\n",
    "    # State |00>\n",
    "    phase = -phi\n",
    "elif x1 == np.pi and x2 == np.pi:\n",
    "    # State |11>\n",
    "    phase = phi\n",
    "elif x1 == 0 or x2 == 0:\n",
    "    # State |01> or |10>\n",
    "    phase = 0"
   ]
  },
  {
   "cell_type": "markdown",
   "id": "adb5521e-f133-47d2-b53e-fd40d0c00447",
   "metadata": {},
   "source": [
    "$\\theta = 2\\pi \\phi$"
   ]
  },
  {
   "cell_type": "code",
   "execution_count": 9,
   "id": "6ee6033e-af74-48b5-b90f-98ff9bcd7872",
   "metadata": {},
   "outputs": [],
   "source": [
    "theta = 2 * np.pi * phi"
   ]
  },
  {
   "cell_type": "code",
   "execution_count": 10,
   "id": "95b2dac4-3177-43ea-88fa-6a04ff667c21",
   "metadata": {},
   "outputs": [
    {
     "data": {
      "text/markdown": [
       "<h2>The phase to estimate for the state $|11\\rangle$ is <strong>0.075548275373876094818115234375</strong><br/></h2>"
      ],
      "text/plain": [
       "<IPython.core.display.Markdown object>"
      ]
     },
     "execution_count": 10,
     "metadata": {},
     "output_type": "execute_result"
    }
   ],
   "source": [
    "Markdown(f\"<h2>The phase to estimate for the state $|{int(x1/np.pi)}{int(x2/np.pi)}\\\\rangle$ is <strong>{phase:.30f}</strong><br/></h2>\")"
   ]
  },
  {
   "cell_type": "markdown",
   "id": "bc018789-2063-409d-a5ea-73acd84f37fa",
   "metadata": {
    "tags": []
   },
   "source": [
    "## IQPE"
   ]
  },
  {
   "cell_type": "markdown",
   "id": "99d118d2",
   "metadata": {
    "tags": []
   },
   "source": [
    "### QPE base circuit"
   ]
  },
  {
   "cell_type": "code",
   "execution_count": 11,
   "id": "881e85d4",
   "metadata": {},
   "outputs": [
    {
     "data": {
      "image/png": "[encoded data removed]",
      "text/plain": [
       "<Figure size 447.797x264.88 with 1 Axes>"
      ]
     },
     "execution_count": 11,
     "metadata": {},
     "output_type": "execute_result"
    }
   ],
   "source": [
    "circuit = QuantumCircuit(3, 1)\n",
    "circuit.h(0)\n",
    "circuit.rx(X_rot1, 1)\n",
    "circuit.rx(X_rot2, 2)\n",
    "circuit.crz(Theta, 0, 1)\n",
    "circuit.crz(Theta, 0, 2)\n",
    "circuit.p(Phase, [0])\n",
    "circuit.h(0)\n",
    "circuit.measure([0], [0])\n",
    "\n",
    "circuit.draw(output=\"mpl\", idle_wires=False)"
   ]
  },
  {
   "cell_type": "markdown",
   "id": "189330c0-0e42-422a-8d77-cb3ef1142b9b",
   "metadata": {},
   "source": [
    "### IQPE algoritm"
   ]
  },
  {
   "cell_type": "code",
   "execution_count": 12,
   "id": "ad2dee59",
   "metadata": {},
   "outputs": [],
   "source": [
    "def iqpe(parametric_circuit, backend, theta, x1, x2, n, debug=False):\n",
    "    measure = []\n",
    "\n",
    "    for k in range(n):\n",
    "        power = 2**(n - 1 - k)\n",
    "\n",
    "        phase = 0\n",
    "        for i in range(k):\n",
    "            if measure[i]:\n",
    "                phase = phase + (1 / (2**(k-i)))\n",
    "        phase = -np.pi * phase\n",
    "\n",
    "        circuit = parametric_circuit.assign_parameters({\"$\\\\theta$\": power * theta,\"$\\psi_s$\": phase, \"$X_1$\": x1, \"$X_2$\": x2 })\n",
    "        \n",
    "        result = backend.run(circuit, shots=shots, repetition_period=None).result()\n",
    "\n",
    "        counts = result.get_counts()\n",
    "\n",
    "        zeros = counts.get(\"0\", 0)\n",
    "        ones = counts.get(\"1\", 0)\n",
    "        measure.append(0 if zeros > ones else 1) \n",
    "               \n",
    "        d = 0\n",
    "        for j,l in enumerate(measure):\n",
    "            d = d + (l/(2**(n-j)))\n",
    "        \n",
    "        print(f\"Iteration {k}: {d:.30f}\")\n",
    "        if debug: print(f\"└─ Counts: {sorted(counts.items())}, Bits: {measure}\")\n",
    "        \n",
    "    return d, measure"
   ]
  },
  {
   "cell_type": "markdown",
   "id": "f3b63301-4c60-4396-936c-80104927247c",
   "metadata": {},
   "source": [
    "Helper function to display results:"
   ]
  },
  {
   "cell_type": "code",
   "execution_count": 13,
   "id": "5fa9d3a9-9020-4266-a3ec-24764eb702ff",
   "metadata": {},
   "outputs": [],
   "source": [
    "def show_results():\n",
    "    display(Markdown(f\"<h3>{phase:.30f} $\\longleftarrow$ Expected value\"))\n",
    "    if (x1 == np.pi and x2 == np.pi) or (x1!=x2):\n",
    "        display(Markdown(f\"<h3><strong>{result:.30f}</strong> $\\longleftarrow$ Result</h3> \"))\n",
    "    else:\n",
    "        display(Markdown(f\"<h3><strong>{-(1-result):.30f}</strong>  $\\longleftarrow$ Result</h3>\"))"
   ]
  },
  {
   "cell_type": "markdown",
   "id": "6d4ecf27-e9f7-42a1-896e-b5bd91e7603b",
   "metadata": {},
   "source": [
    "## Execution"
   ]
  },
  {
   "cell_type": "markdown",
   "id": "42298233-d3d1-456b-afc2-35f014ce4bb9",
   "metadata": {
    "jp-MarkdownHeadingCollapsed": true,
    "tags": []
   },
   "source": [
    "### Test 1: Running on a generic emulator without noise: **AerSimulator**"
   ]
  },
  {
   "cell_type": "code",
   "execution_count": 14,
   "id": "4090db8b-0221-48d2-bfd4-8ae47db5a9a8",
   "metadata": {},
   "outputs": [
    {
     "data": {
      "image/png": "[encoded data removed]",
      "text/plain": [
       "<Figure size 628.397x264.88 with 1 Axes>"
      ]
     },
     "execution_count": 14,
     "metadata": {},
     "output_type": "execute_result"
    }
   ],
   "source": [
    "backend = AerSimulator()\n",
    "transpiled_circuit = transpile(circuit, backend)\n",
    "transpiled_circuit.draw(output=\"mpl\", idle_wires=False)"
   ]
  },
  {
   "cell_type": "code",
   "execution_count": 15,
   "id": "a2a6ebbc-1ea9-4cfa-82ed-1b6c3b4cc287",
   "metadata": {},
   "outputs": [
    {
     "name": "stdout",
     "output_type": "stream",
     "text": [
      "Iteration 0: 0.000000000931322574615478515625\n",
      "└─ Counts: [('1', 200)], Bits: [1]\n",
      "Iteration 1: 0.000000002793967723846435546875\n",
      "└─ Counts: [('1', 200)], Bits: [1, 1]\n",
      "Iteration 2: 0.000000006519258022308349609375\n",
      "└─ Counts: [('1', 200)], Bits: [1, 1, 1]\n",
      "Iteration 3: 0.000000013969838619232177734375\n",
      "└─ Counts: [('1', 200)], Bits: [1, 1, 1, 1]\n",
      "Iteration 4: 0.000000013969838619232177734375\n",
      "└─ Counts: [('0', 200)], Bits: [1, 1, 1, 1, 0]\n",
      "Iteration 5: 0.000000043772161006927490234375\n",
      "└─ Counts: [('1', 200)], Bits: [1, 1, 1, 1, 0, 1]\n",
      "Iteration 6: 0.000000103376805782318115234375\n",
      "└─ Counts: [('1', 200)], Bits: [1, 1, 1, 1, 0, 1, 1]\n",
      "Iteration 7: 0.000000103376805782318115234375\n",
      "└─ Counts: [('0', 200)], Bits: [1, 1, 1, 1, 0, 1, 1, 0]\n",
      "Iteration 8: 0.000000103376805782318115234375\n",
      "└─ Counts: [('0', 200)], Bits: [1, 1, 1, 1, 0, 1, 1, 0, 0]\n",
      "Iteration 9: 0.000000103376805782318115234375\n",
      "└─ Counts: [('0', 200)], Bits: [1, 1, 1, 1, 0, 1, 1, 0, 0, 0]\n",
      "Iteration 10: 0.000000103376805782318115234375\n",
      "└─ Counts: [('0', 200)], Bits: [1, 1, 1, 1, 0, 1, 1, 0, 0, 0, 0]\n",
      "Iteration 11: 0.000002010725438594818115234375\n",
      "└─ Counts: [('1', 200)], Bits: [1, 1, 1, 1, 0, 1, 1, 0, 0, 0, 0, 1]\n",
      "Iteration 12: 0.000002010725438594818115234375\n",
      "└─ Counts: [('0', 200)], Bits: [1, 1, 1, 1, 0, 1, 1, 0, 0, 0, 0, 1, 0]\n",
      "Iteration 13: 0.000002010725438594818115234375\n",
      "└─ Counts: [('0', 200)], Bits: [1, 1, 1, 1, 0, 1, 1, 0, 0, 0, 0, 1, 0, 0]\n",
      "Iteration 14: 0.000017269514501094818115234375\n",
      "└─ Counts: [('1', 200)], Bits: [1, 1, 1, 1, 0, 1, 1, 0, 0, 0, 0, 1, 0, 0, 1]\n",
      "Iteration 15: 0.000047787092626094818115234375\n",
      "└─ Counts: [('1', 200)], Bits: [1, 1, 1, 1, 0, 1, 1, 0, 0, 0, 0, 1, 0, 0, 1, 1]\n",
      "Iteration 16: 0.000108822248876094818115234375\n",
      "└─ Counts: [('1', 200)], Bits: [1, 1, 1, 1, 0, 1, 1, 0, 0, 0, 0, 1, 0, 0, 1, 1, 1]\n",
      "Iteration 17: 0.000108822248876094818115234375\n",
      "└─ Counts: [('0', 200)], Bits: [1, 1, 1, 1, 0, 1, 1, 0, 0, 0, 0, 1, 0, 0, 1, 1, 1, 0]\n",
      "Iteration 18: 0.000352962873876094818115234375\n",
      "└─ Counts: [('1', 200)], Bits: [1, 1, 1, 1, 0, 1, 1, 0, 0, 0, 0, 1, 0, 0, 1, 1, 1, 0, 1]\n",
      "Iteration 19: 0.000352962873876094818115234375\n",
      "└─ Counts: [('0', 200)], Bits: [1, 1, 1, 1, 0, 1, 1, 0, 0, 0, 0, 1, 0, 0, 1, 1, 1, 0, 1, 0]\n",
      "Iteration 20: 0.001329525373876094818115234375\n",
      "└─ Counts: [('1', 200)], Bits: [1, 1, 1, 1, 0, 1, 1, 0, 0, 0, 0, 1, 0, 0, 1, 1, 1, 0, 1, 0, 1]\n",
      "Iteration 21: 0.001329525373876094818115234375\n",
      "└─ Counts: [('0', 200)], Bits: [1, 1, 1, 1, 0, 1, 1, 0, 0, 0, 0, 1, 0, 0, 1, 1, 1, 0, 1, 0, 1, 0]\n",
      "Iteration 22: 0.005235775373876094818115234375\n",
      "└─ Counts: [('1', 200)], Bits: [1, 1, 1, 1, 0, 1, 1, 0, 0, 0, 0, 1, 0, 0, 1, 1, 1, 0, 1, 0, 1, 0, 1]\n",
      "Iteration 23: 0.013048275373876094818115234375\n",
      "└─ Counts: [('1', 200)], Bits: [1, 1, 1, 1, 0, 1, 1, 0, 0, 0, 0, 1, 0, 0, 1, 1, 1, 0, 1, 0, 1, 0, 1, 1]\n",
      "Iteration 24: 0.013048275373876094818115234375\n",
      "└─ Counts: [('0', 200)], Bits: [1, 1, 1, 1, 0, 1, 1, 0, 0, 0, 0, 1, 0, 0, 1, 1, 1, 0, 1, 0, 1, 0, 1, 1, 0]\n",
      "Iteration 25: 0.013048275373876094818115234375\n",
      "└─ Counts: [('0', 200)], Bits: [1, 1, 1, 1, 0, 1, 1, 0, 0, 0, 0, 1, 0, 0, 1, 1, 1, 0, 1, 0, 1, 0, 1, 1, 0, 0]\n",
      "Iteration 26: 0.075548275373876094818115234375\n",
      "└─ Counts: [('1', 200)], Bits: [1, 1, 1, 1, 0, 1, 1, 0, 0, 0, 0, 1, 0, 0, 1, 1, 1, 0, 1, 0, 1, 0, 1, 1, 0, 0, 1]\n",
      "Iteration 27: 0.075548275373876094818115234375\n",
      "└─ Counts: [('0', 200)], Bits: [1, 1, 1, 1, 0, 1, 1, 0, 0, 0, 0, 1, 0, 0, 1, 1, 1, 0, 1, 0, 1, 0, 1, 1, 0, 0, 1, 0]\n",
      "Iteration 28: 0.075548275373876094818115234375\n",
      "└─ Counts: [('0', 200)], Bits: [1, 1, 1, 1, 0, 1, 1, 0, 0, 0, 0, 1, 0, 0, 1, 1, 1, 0, 1, 0, 1, 0, 1, 1, 0, 0, 1, 0, 0]\n",
      "Iteration 29: 0.075548275373876094818115234375\n",
      "└─ Counts: [('0', 200)], Bits: [1, 1, 1, 1, 0, 1, 1, 0, 0, 0, 0, 1, 0, 0, 1, 1, 1, 0, 1, 0, 1, 0, 1, 1, 0, 0, 1, 0, 0, 0]\n"
     ]
    }
   ],
   "source": [
    "result, measurements = iqpe(transpiled_circuit, backend, theta, x1=x1, x2=x2, n=n, debug=True)"
   ]
  },
  {
   "cell_type": "code",
   "execution_count": 16,
   "id": "d2df2669-dccf-4cde-abc5-671ade6645e5",
   "metadata": {},
   "outputs": [
    {
     "data": {
      "text/markdown": [
       "<h3>0.075548275373876094818115234375 $\\longleftarrow$ Expected value"
      ],
      "text/plain": [
       "<IPython.core.display.Markdown object>"
      ]
     },
     "metadata": {},
     "output_type": "display_data"
    },
    {
     "data": {
      "text/markdown": [
       "<h3><strong>0.075548275373876094818115234375</strong> $\\longleftarrow$ Result</h3> "
      ],
      "text/plain": [
       "<IPython.core.display.Markdown object>"
      ]
     },
     "metadata": {},
     "output_type": "display_data"
    }
   ],
   "source": [
    "show_results()"
   ]
  },
  {
   "cell_type": "markdown",
   "id": "a94a1f47-ef6a-478e-a89a-d8d30a55540f",
   "metadata": {
    "tags": []
   },
   "source": [
    "### TEST 2: Runing on Qmio QPU emulator with noise: **FakeQmio**"
   ]
  },
  {
   "cell_type": "code",
   "execution_count": 17,
   "id": "9d03aff6",
   "metadata": {
    "tags": []
   },
   "outputs": [
    {
     "name": "stdout",
     "output_type": "stream",
     "text": [
      "Importing calibrations from  /opt/cesga/qmio/hpc/calibrations/2024_10_25__12_00_02.json\n"
     ]
    }
   ],
   "source": [
    "backend = FakeQmio(thermal_relaxation= True, temperature=0, gate_error=True, readout_error=True)"
   ]
  },
  {
   "cell_type": "markdown",
   "id": "f5dccb52-354b-4872-8ffe-1c29fcbd7fcd",
   "metadata": {},
   "source": [
    "**During transpilation we force the circuit to use qubits: 23, 20, 30**"
   ]
  },
  {
   "cell_type": "code",
   "execution_count": 18,
   "id": "a23ac8b6",
   "metadata": {},
   "outputs": [
    {
     "data": {
      "image/png": "[encoded data removed]",
      "text/plain": [
       "<Figure size 1642.51x565.88 with 1 Axes>"
      ]
     },
     "execution_count": 18,
     "metadata": {},
     "output_type": "execute_result"
    }
   ],
   "source": [
    "transpiled_circuit = transpile(circuit, backend, optimization_level=1, initial_layout=[23, 20, 30])\n",
    "transpiled_circuit.draw(output=\"mpl\", idle_wires=False)"
   ]
  },
  {
   "cell_type": "code",
   "execution_count": 19,
   "id": "d83aeb0b",
   "metadata": {},
   "outputs": [
    {
     "name": "stdout",
     "output_type": "stream",
     "text": [
      "Iteration 0: 0.000000000931322574615478515625\n",
      "└─ Counts: [('0', 35), ('1', 165)], Bits: [1]\n",
      "Iteration 1: 0.000000002793967723846435546875\n",
      "└─ Counts: [('0', 34), ('1', 166)], Bits: [1, 1]\n",
      "Iteration 2: 0.000000006519258022308349609375\n",
      "└─ Counts: [('0', 30), ('1', 170)], Bits: [1, 1, 1]\n",
      "Iteration 3: 0.000000013969838619232177734375\n",
      "└─ Counts: [('0', 37), ('1', 163)], Bits: [1, 1, 1, 1]\n",
      "Iteration 4: 0.000000013969838619232177734375\n",
      "└─ Counts: [('0', 159), ('1', 41)], Bits: [1, 1, 1, 1, 0]\n",
      "Iteration 5: 0.000000043772161006927490234375\n",
      "└─ Counts: [('0', 33), ('1', 167)], Bits: [1, 1, 1, 1, 0, 1]\n",
      "Iteration 6: 0.000000103376805782318115234375\n",
      "└─ Counts: [('0', 43), ('1', 157)], Bits: [1, 1, 1, 1, 0, 1, 1]\n",
      "Iteration 7: 0.000000103376805782318115234375\n",
      "└─ Counts: [('0', 160), ('1', 40)], Bits: [1, 1, 1, 1, 0, 1, 1, 0]\n",
      "Iteration 8: 0.000000103376805782318115234375\n",
      "└─ Counts: [('0', 167), ('1', 33)], Bits: [1, 1, 1, 1, 0, 1, 1, 0, 0]\n",
      "Iteration 9: 0.000000103376805782318115234375\n",
      "└─ Counts: [('0', 172), ('1', 28)], Bits: [1, 1, 1, 1, 0, 1, 1, 0, 0, 0]\n",
      "Iteration 10: 0.000000103376805782318115234375\n",
      "└─ Counts: [('0', 169), ('1', 31)], Bits: [1, 1, 1, 1, 0, 1, 1, 0, 0, 0, 0]\n",
      "Iteration 11: 0.000002010725438594818115234375\n",
      "└─ Counts: [('0', 23), ('1', 177)], Bits: [1, 1, 1, 1, 0, 1, 1, 0, 0, 0, 0, 1]\n",
      "Iteration 12: 0.000002010725438594818115234375\n",
      "└─ Counts: [('0', 173), ('1', 27)], Bits: [1, 1, 1, 1, 0, 1, 1, 0, 0, 0, 0, 1, 0]\n",
      "Iteration 13: 0.000002010725438594818115234375\n",
      "└─ Counts: [('0', 160), ('1', 40)], Bits: [1, 1, 1, 1, 0, 1, 1, 0, 0, 0, 0, 1, 0, 0]\n",
      "Iteration 14: 0.000017269514501094818115234375\n",
      "└─ Counts: [('0', 34), ('1', 166)], Bits: [1, 1, 1, 1, 0, 1, 1, 0, 0, 0, 0, 1, 0, 0, 1]\n",
      "Iteration 15: 0.000047787092626094818115234375\n",
      "└─ Counts: [('0', 34), ('1', 166)], Bits: [1, 1, 1, 1, 0, 1, 1, 0, 0, 0, 0, 1, 0, 0, 1, 1]\n",
      "Iteration 16: 0.000108822248876094818115234375\n",
      "└─ Counts: [('0', 40), ('1', 160)], Bits: [1, 1, 1, 1, 0, 1, 1, 0, 0, 0, 0, 1, 0, 0, 1, 1, 1]\n",
      "Iteration 17: 0.000108822248876094818115234375\n",
      "└─ Counts: [('0', 164), ('1', 36)], Bits: [1, 1, 1, 1, 0, 1, 1, 0, 0, 0, 0, 1, 0, 0, 1, 1, 1, 0]\n",
      "Iteration 18: 0.000352962873876094818115234375\n",
      "└─ Counts: [('0', 34), ('1', 166)], Bits: [1, 1, 1, 1, 0, 1, 1, 0, 0, 0, 0, 1, 0, 0, 1, 1, 1, 0, 1]\n",
      "Iteration 19: 0.000352962873876094818115234375\n",
      "└─ Counts: [('0', 167), ('1', 33)], Bits: [1, 1, 1, 1, 0, 1, 1, 0, 0, 0, 0, 1, 0, 0, 1, 1, 1, 0, 1, 0]\n",
      "Iteration 20: 0.001329525373876094818115234375\n",
      "└─ Counts: [('0', 27), ('1', 173)], Bits: [1, 1, 1, 1, 0, 1, 1, 0, 0, 0, 0, 1, 0, 0, 1, 1, 1, 0, 1, 0, 1]\n",
      "Iteration 21: 0.001329525373876094818115234375\n",
      "└─ Counts: [('0', 168), ('1', 32)], Bits: [1, 1, 1, 1, 0, 1, 1, 0, 0, 0, 0, 1, 0, 0, 1, 1, 1, 0, 1, 0, 1, 0]\n",
      "Iteration 22: 0.005235775373876094818115234375\n",
      "└─ Counts: [('0', 31), ('1', 169)], Bits: [1, 1, 1, 1, 0, 1, 1, 0, 0, 0, 0, 1, 0, 0, 1, 1, 1, 0, 1, 0, 1, 0, 1]\n",
      "Iteration 23: 0.013048275373876094818115234375\n",
      "└─ Counts: [('0', 46), ('1', 154)], Bits: [1, 1, 1, 1, 0, 1, 1, 0, 0, 0, 0, 1, 0, 0, 1, 1, 1, 0, 1, 0, 1, 0, 1, 1]\n",
      "Iteration 24: 0.013048275373876094818115234375\n",
      "└─ Counts: [('0', 157), ('1', 43)], Bits: [1, 1, 1, 1, 0, 1, 1, 0, 0, 0, 0, 1, 0, 0, 1, 1, 1, 0, 1, 0, 1, 0, 1, 1, 0]\n",
      "Iteration 25: 0.013048275373876094818115234375\n",
      "└─ Counts: [('0', 177), ('1', 23)], Bits: [1, 1, 1, 1, 0, 1, 1, 0, 0, 0, 0, 1, 0, 0, 1, 1, 1, 0, 1, 0, 1, 0, 1, 1, 0, 0]\n",
      "Iteration 26: 0.075548275373876094818115234375\n",
      "└─ Counts: [('0', 33), ('1', 167)], Bits: [1, 1, 1, 1, 0, 1, 1, 0, 0, 0, 0, 1, 0, 0, 1, 1, 1, 0, 1, 0, 1, 0, 1, 1, 0, 0, 1]\n",
      "Iteration 27: 0.075548275373876094818115234375\n",
      "└─ Counts: [('0', 164), ('1', 36)], Bits: [1, 1, 1, 1, 0, 1, 1, 0, 0, 0, 0, 1, 0, 0, 1, 1, 1, 0, 1, 0, 1, 0, 1, 1, 0, 0, 1, 0]\n",
      "Iteration 28: 0.075548275373876094818115234375\n",
      "└─ Counts: [('0', 168), ('1', 32)], Bits: [1, 1, 1, 1, 0, 1, 1, 0, 0, 0, 0, 1, 0, 0, 1, 1, 1, 0, 1, 0, 1, 0, 1, 1, 0, 0, 1, 0, 0]\n",
      "Iteration 29: 0.075548275373876094818115234375\n",
      "└─ Counts: [('0', 162), ('1', 38)], Bits: [1, 1, 1, 1, 0, 1, 1, 0, 0, 0, 0, 1, 0, 0, 1, 1, 1, 0, 1, 0, 1, 0, 1, 1, 0, 0, 1, 0, 0, 0]\n"
     ]
    }
   ],
   "source": [
    "result, measurements = iqpe(transpiled_circuit, backend, theta, x1=x1, x2=x2, n=n, debug=True)"
   ]
  },
  {
   "cell_type": "code",
   "execution_count": 20,
   "id": "ad7b6919",
   "metadata": {},
   "outputs": [
    {
     "data": {
      "text/markdown": [
       "<h3>0.075548275373876094818115234375 $\\longleftarrow$ Expected value"
      ],
      "text/plain": [
       "<IPython.core.display.Markdown object>"
      ]
     },
     "metadata": {},
     "output_type": "display_data"
    },
    {
     "data": {
      "text/markdown": [
       "<h3><strong>0.075548275373876094818115234375</strong> $\\longleftarrow$ Result</h3> "
      ],
      "text/plain": [
       "<IPython.core.display.Markdown object>"
      ]
     },
     "metadata": {},
     "output_type": "display_data"
    }
   ],
   "source": [
    "show_results()"
   ]
  },
  {
   "cell_type": "markdown",
   "id": "795fa519",
   "metadata": {
    "tags": []
   },
   "source": [
    "## TEST 3: Running on Qmio Real QPU: **QmioBackend**"
   ]
  },
  {
   "cell_type": "code",
   "execution_count": 21,
   "id": "3e42b86c",
   "metadata": {},
   "outputs": [
    {
     "name": "stdout",
     "output_type": "stream",
     "text": [
      "Importing calibrations from  /opt/cesga/qmio/hpc/calibrations/2024_10_25__12_00_02.json\n"
     ]
    }
   ],
   "source": [
    "backend = QmioBackend()"
   ]
  },
  {
   "cell_type": "code",
   "execution_count": 22,
   "id": "f04b65eb-af03-466f-8eb6-e3094a88922d",
   "metadata": {},
   "outputs": [],
   "source": [
    "transpiled_circuit = transpile(circuit, backend, optimization_level=1, initial_layout=[23, 20, 30])"
   ]
  },
  {
   "cell_type": "code",
   "execution_count": 23,
   "id": "5bbc407e",
   "metadata": {},
   "outputs": [
    {
     "name": "stdout",
     "output_type": "stream",
     "text": [
      "Iteration 0: 0.000000000931322574615478515625\n",
      "└─ Counts: [('0', 53), ('1', 147)], Bits: [1]\n",
      "Iteration 1: 0.000000002793967723846435546875\n",
      "└─ Counts: [('0', 40), ('1', 160)], Bits: [1, 1]\n",
      "Iteration 2: 0.000000006519258022308349609375\n",
      "└─ Counts: [('0', 31), ('1', 169)], Bits: [1, 1, 1]\n",
      "Iteration 3: 0.000000013969838619232177734375\n",
      "└─ Counts: [('0', 36), ('1', 164)], Bits: [1, 1, 1, 1]\n",
      "Iteration 4: 0.000000013969838619232177734375\n",
      "└─ Counts: [('0', 140), ('1', 60)], Bits: [1, 1, 1, 1, 0]\n",
      "Iteration 5: 0.000000043772161006927490234375\n",
      "└─ Counts: [('0', 52), ('1', 148)], Bits: [1, 1, 1, 1, 0, 1]\n",
      "Iteration 6: 0.000000103376805782318115234375\n",
      "└─ Counts: [('0', 42), ('1', 158)], Bits: [1, 1, 1, 1, 0, 1, 1]\n",
      "Iteration 7: 0.000000103376805782318115234375\n",
      "└─ Counts: [('0', 145), ('1', 55)], Bits: [1, 1, 1, 1, 0, 1, 1, 0]\n",
      "Iteration 8: 0.000000103376805782318115234375\n",
      "└─ Counts: [('0', 150), ('1', 50)], Bits: [1, 1, 1, 1, 0, 1, 1, 0, 0]\n",
      "Iteration 9: 0.000000103376805782318115234375\n",
      "└─ Counts: [('0', 165), ('1', 35)], Bits: [1, 1, 1, 1, 0, 1, 1, 0, 0, 0]\n",
      "Iteration 10: 0.000000103376805782318115234375\n",
      "└─ Counts: [('0', 155), ('1', 45)], Bits: [1, 1, 1, 1, 0, 1, 1, 0, 0, 0, 0]\n",
      "Iteration 11: 0.000002010725438594818115234375\n",
      "└─ Counts: [('0', 54), ('1', 146)], Bits: [1, 1, 1, 1, 0, 1, 1, 0, 0, 0, 0, 1]\n",
      "Iteration 12: 0.000002010725438594818115234375\n",
      "└─ Counts: [('0', 143), ('1', 57)], Bits: [1, 1, 1, 1, 0, 1, 1, 0, 0, 0, 0, 1, 0]\n",
      "Iteration 13: 0.000002010725438594818115234375\n",
      "└─ Counts: [('0', 156), ('1', 44)], Bits: [1, 1, 1, 1, 0, 1, 1, 0, 0, 0, 0, 1, 0, 0]\n",
      "Iteration 14: 0.000017269514501094818115234375\n",
      "└─ Counts: [('0', 57), ('1', 143)], Bits: [1, 1, 1, 1, 0, 1, 1, 0, 0, 0, 0, 1, 0, 0, 1]\n",
      "Iteration 15: 0.000047787092626094818115234375\n",
      "└─ Counts: [('0', 37), ('1', 163)], Bits: [1, 1, 1, 1, 0, 1, 1, 0, 0, 0, 0, 1, 0, 0, 1, 1]\n",
      "Iteration 16: 0.000108822248876094818115234375\n",
      "└─ Counts: [('0', 43), ('1', 157)], Bits: [1, 1, 1, 1, 0, 1, 1, 0, 0, 0, 0, 1, 0, 0, 1, 1, 1]\n",
      "Iteration 17: 0.000108822248876094818115234375\n",
      "└─ Counts: [('0', 137), ('1', 63)], Bits: [1, 1, 1, 1, 0, 1, 1, 0, 0, 0, 0, 1, 0, 0, 1, 1, 1, 0]\n",
      "Iteration 18: 0.000352962873876094818115234375\n",
      "└─ Counts: [('0', 40), ('1', 160)], Bits: [1, 1, 1, 1, 0, 1, 1, 0, 0, 0, 0, 1, 0, 0, 1, 1, 1, 0, 1]\n",
      "Iteration 19: 0.000352962873876094818115234375\n",
      "└─ Counts: [('0', 148), ('1', 52)], Bits: [1, 1, 1, 1, 0, 1, 1, 0, 0, 0, 0, 1, 0, 0, 1, 1, 1, 0, 1, 0]\n",
      "Iteration 20: 0.001329525373876094818115234375\n",
      "└─ Counts: [('0', 56), ('1', 144)], Bits: [1, 1, 1, 1, 0, 1, 1, 0, 0, 0, 0, 1, 0, 0, 1, 1, 1, 0, 1, 0, 1]\n",
      "Iteration 21: 0.001329525373876094818115234375\n",
      "└─ Counts: [('0', 143), ('1', 57)], Bits: [1, 1, 1, 1, 0, 1, 1, 0, 0, 0, 0, 1, 0, 0, 1, 1, 1, 0, 1, 0, 1, 0]\n",
      "Iteration 22: 0.005235775373876094818115234375\n",
      "└─ Counts: [('0', 37), ('1', 163)], Bits: [1, 1, 1, 1, 0, 1, 1, 0, 0, 0, 0, 1, 0, 0, 1, 1, 1, 0, 1, 0, 1, 0, 1]\n",
      "Iteration 23: 0.013048275373876094818115234375\n",
      "└─ Counts: [('0', 47), ('1', 153)], Bits: [1, 1, 1, 1, 0, 1, 1, 0, 0, 0, 0, 1, 0, 0, 1, 1, 1, 0, 1, 0, 1, 0, 1, 1]\n",
      "Iteration 24: 0.013048275373876094818115234375\n",
      "└─ Counts: [('0', 140), ('1', 60)], Bits: [1, 1, 1, 1, 0, 1, 1, 0, 0, 0, 0, 1, 0, 0, 1, 1, 1, 0, 1, 0, 1, 0, 1, 1, 0]\n",
      "Iteration 25: 0.013048275373876094818115234375\n",
      "└─ Counts: [('0', 144), ('1', 56)], Bits: [1, 1, 1, 1, 0, 1, 1, 0, 0, 0, 0, 1, 0, 0, 1, 1, 1, 0, 1, 0, 1, 0, 1, 1, 0, 0]\n",
      "Iteration 26: 0.075548275373876094818115234375\n",
      "└─ Counts: [('0', 46), ('1', 154)], Bits: [1, 1, 1, 1, 0, 1, 1, 0, 0, 0, 0, 1, 0, 0, 1, 1, 1, 0, 1, 0, 1, 0, 1, 1, 0, 0, 1]\n",
      "Iteration 27: 0.075548275373876094818115234375\n",
      "└─ Counts: [('0', 146), ('1', 54)], Bits: [1, 1, 1, 1, 0, 1, 1, 0, 0, 0, 0, 1, 0, 0, 1, 1, 1, 0, 1, 0, 1, 0, 1, 1, 0, 0, 1, 0]\n",
      "Iteration 28: 0.075548275373876094818115234375\n",
      "└─ Counts: [('0', 154), ('1', 46)], Bits: [1, 1, 1, 1, 0, 1, 1, 0, 0, 0, 0, 1, 0, 0, 1, 1, 1, 0, 1, 0, 1, 0, 1, 1, 0, 0, 1, 0, 0]\n",
      "Iteration 29: 0.075548275373876094818115234375\n",
      "└─ Counts: [('0', 165), ('1', 35)], Bits: [1, 1, 1, 1, 0, 1, 1, 0, 0, 0, 0, 1, 0, 0, 1, 1, 1, 0, 1, 0, 1, 0, 1, 1, 0, 0, 1, 0, 0, 0]\n"
     ]
    }
   ],
   "source": [
    "result, measurements = iqpe(transpiled_circuit, backend, theta, x1=x1, x2=x2, n=n, debug=True)"
   ]
  },
  {
   "cell_type": "code",
   "execution_count": 24,
   "id": "67fc24d5-631c-4f52-8af4-07c866962f5c",
   "metadata": {},
   "outputs": [
    {
     "data": {
      "text/markdown": [
       "<h3>0.075548275373876094818115234375 $\\longleftarrow$ Expected value"
      ],
      "text/plain": [
       "<IPython.core.display.Markdown object>"
      ]
     },
     "metadata": {},
     "output_type": "display_data"
    },
    {
     "data": {
      "text/markdown": [
       "<h3><strong>0.075548275373876094818115234375</strong> $\\longleftarrow$ Result</h3> "
      ],
      "text/plain": [
       "<IPython.core.display.Markdown object>"
      ]
     },
     "metadata": {},
     "output_type": "display_data"
    }
   ],
   "source": [
    "show_results()"
   ]
  },
  {
   "cell_type": "markdown",
   "id": "557697d9-cd46-4c1c-9c4b-359146a5ad92",
   "metadata": {},
   "source": [
    "## Acknowledgements"
   ]
  },
  {
   "cell_type": "markdown",
   "id": "484d5532-f7e7-4c72-bd92-f168781f0c6d",
   "metadata": {},
   "source": [
    "<center><img src=\"https://www.cesga.es/wp-content/uploads/2023/10/Cartel-FEDER-CUANTICA_vsetembro23-600x429.png\" /></center>"
   ]
  }
 ],
 "metadata": {
  "kernelspec": {
   "display_name": "Python 3 (ipykernel)",
   "language": "python",
   "name": "python3"
  },
  "language_info": {
   "codemirror_mode": {
    "name": "ipython",
    "version": 3
   },
   "file_extension": ".py",
   "mimetype": "text/x-python",
   "name": "python",
   "nbconvert_exporter": "python",
   "pygments_lexer": "ipython3",
   "version": "3.9.9"
  }
 },
 "nbformat": 4,
 "nbformat_minor": 5
}
