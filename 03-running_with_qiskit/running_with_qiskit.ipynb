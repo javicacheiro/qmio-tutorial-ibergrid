{
 "cells": [
  {
   "cell_type": "markdown",
   "id": "72701415-1965-4786-81eb-35fe1fc72607",
   "metadata": {},
   "source": [
    "# Running with Qiskit"
   ]
  },
  {
   "cell_type": "markdown",
   "id": "f9e1cb1f-8864-44ab-99cd-00dc971c22a8",
   "metadata": {},
   "source": [
    "## Introduction"
   ]
  },
  {
   "cell_type": "markdown",
   "id": "11f07ed3-41a0-4226-8e41-7c88d77ce389",
   "metadata": {},
   "source": [
    "You can use Qmio directly from Qiskit. For that we provide a module named `qmio-tools` that provides two Qiskit backends: \n",
    "- `FakeQmio`: this backend is an emulator of the real QPU, you should always use it to test your code before running in the real QPU\n",
    "- `QmioBackend`: this backend runs in the real Qmio QPU\n",
    "\n",
    "These backends are included in the `qmio-tools` module that you can load using:\n",
    "```\n",
    "module load qmio-tools\n",
    "```\n",
    "\n",
    "Then you can import the mentioned backends with:\n",
    "```\n",
    "from qmiotools.integrations.qiskitqmio import QmioBackend, FakeQmio\n",
    "```\n",
    "\n",
    "Under the hood `QmioBackend` uses `qmio-run` to interact with the QPU."
   ]
  },
  {
   "cell_type": "markdown",
   "id": "eee63133-1157-4866-83d2-f1bbbd605383",
   "metadata": {},
   "source": [
    "## How to run a Qiskit program"
   ]
  },
  {
   "cell_type": "markdown",
   "id": "b557619d-0f8b-4e11-afe1-50cadb6a9a40",
   "metadata": {},
   "source": [
    "### Step 1: The Qiskit program\n",
    "We will create a simple qiskit program [qiskit_program.py](qiskit_program.py) that shows how to use both `FakeQmio` and `QmioBackend`:\n",
    "\n",
    "```python\n",
    "from qiskit import QuantumCircuit, transpile\n",
    "from qmiotools.integrations.qiskitqmio import QmioBackend, FakeQmio\n",
    "\n",
    "qc = QuantumCircuit(2)\n",
    "qc.h(0)\n",
    "qc.cx(0, 1)\n",
    "qc.measure_all()\n",
    "qc.draw()\n",
    "\n",
    "# Running in FakeQmio\n",
    "backend = FakeQmio()\n",
    "\n",
    "qct = transpile(qc, backend)\n",
    "qct.draw(idle_wires=False)\n",
    "\n",
    "job = backend.run(qct, shots=1024)\n",
    "result = job.result()\n",
    "counts = result.get_counts(qc)\n",
    "print(\"FakeQmio Counts:\", counts)\n",
    "\n",
    "# Running in the real QPU\n",
    "backend = QmioBackend()\n",
    "# This is equivalent to the FakeQmio transpiled circuit\n",
    "qct = transpile(qc, backend)\n",
    "\n",
    "job = backend.run(qct, shots=1024)\n",
    "result = job.result()\n",
    "counts = result.get_counts(qc)\n",
    "print(\"QmioBackend Counts:\", counts)\n",
    "```\n",
    "\n",
    "### Step 2: Creating the job script\n",
    "We will now create a job script [job.sh](job.sh) where we will define the resources needed by the job and that will take care of loading the needed module and running the previous python program.\n",
    "\n",
    "### Step 3: Submitting the job\n",
    "Finally you can submit the job using:\n",
    "\n",
    "```bash\n",
    "sbatch job.sh\n",
    "```\n",
    "\n",
    "If you have a reservation in the system you can specify it:\n",
    "```bash\n",
    "sbatch --reservation my-reservation job.sh\n",
    "```\n",
    "\n",
    "You can check the status of the job with:\n",
    "```\n",
    "squeue\n",
    "```\n",
    "\n",
    "When the job is finished the output of the execution will be stored in two files like:\n",
    "- [qiskit-example.o40964](qiskit-example.o40964): contains the standard output of the program execution\n",
    "- [qiskit-example.e40964](qiskit-example.e40964): contains the standard error of the program execution\n",
    "The last part of the filename is the JobId."
   ]
  },
  {
   "cell_type": "markdown",
   "id": "cba421af-50d7-437f-9698-86ff0909b901",
   "metadata": {},
   "source": [
    "## Acknowledgements\n",
    "<center><img src=\"https://www.cesga.es/wp-content/uploads/2023/10/Cartel-FEDER-CUANTICA_vsetembro23-600x429.png\" /></center>"
   ]
  }
 ],
 "metadata": {
  "kernelspec": {
   "display_name": "Python 3 (ipykernel)",
   "language": "python",
   "name": "python3"
  },
  "language_info": {
   "codemirror_mode": {
    "name": "ipython",
    "version": 3
   },
   "file_extension": ".py",
   "mimetype": "text/x-python",
   "name": "python",
   "nbconvert_exporter": "python",
   "pygments_lexer": "ipython3",
   "version": "3.9.9"
  }
 },
 "nbformat": 4,
 "nbformat_minor": 5
}
