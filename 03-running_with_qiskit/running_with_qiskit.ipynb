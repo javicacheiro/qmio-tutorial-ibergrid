{
 "cells": [
  {
   "cell_type": "markdown",
   "id": "72701415-1965-4786-81eb-35fe1fc72607",
   "metadata": {},
   "source": [
    "# Running with Qiskit"
   ]
  },
  {
   "cell_type": "markdown",
   "id": "f9e1cb1f-8864-44ab-99cd-00dc971c22a8",
   "metadata": {},
   "source": [
    "## Introduction"
   ]
  },
  {
   "cell_type": "markdown",
   "id": "11f07ed3-41a0-4226-8e41-7c88d77ce389",
   "metadata": {},
   "source": [
    "You can use Qmio directly from Qiskit. For that we provide a module named `qmio-tools` that provides two Qiskit backends: \n",
    "- `FakeQmio`: this backend is an emulator of the real QPU, you should always use it to test your code before running in the real QPU\n",
    "- `QmioBackend`: this backend runs in the real Qmio QPU\n",
    "\n",
    "These backends are included in the `qmio-tools` module that you can load using:\n",
    "```\n",
    "module load qmio-tools\n",
    "```\n",
    "\n",
    "Then you can import the mentioned backends with:\n",
    "```\n",
    "from qmiotools.integrations.qiskitqmio import QmioBackend, FakeQmio\n",
    "```\n",
    "\n",
    "Under the hood `QmioBackend` uses `qmio-run` to interact with the QPU."
   ]
  },
  {
   "cell_type": "markdown",
   "id": "eee63133-1157-4866-83d2-f1bbbd605383",
   "metadata": {},
   "source": [
    "## How to do it"
   ]
  },
  {
   "cell_type": "markdown",
   "id": "b557619d-0f8b-4e11-afe1-50cadb6a9a40",
   "metadata": {},
   "source": [
    "For example let's create a simple circuit in qiskit:"
   ]
  },
  {
   "cell_type": "markdown",
   "id": "e759cee1-1e28-4034-aab9-3e80134a2b0d",
   "metadata": {},
   "source": [
    "## Creating a job script for SLURM\n",
    "\n",
    "We will now create a job script [job.sh](job.sh) where we will define the resources needed by the job and that will take care of loading the needed module and running the previous python program.\n",
    "\n",
    "## Submitting the job to SLURM\n",
    "Finally you can submit the job using:\n",
    "\n",
    "```bash\n",
    "sbatch job.sh\n",
    "```\n",
    "\n",
    "If you have a reservation in the system you can specify it:\n",
    "```bash\n",
    "sbatch --reservation my-reservation job.sh\n",
    "```"
   ]
  },
  {
   "cell_type": "code",
   "execution_count": 15,
   "id": "25557681-4de1-483a-899b-fab42cab1d88",
   "metadata": {},
   "outputs": [
    {
     "data": {
      "text/html": [
       "<pre style=\"word-wrap: normal;white-space: pre;background: #fff0;line-height: 1.1;font-family: &quot;Courier New&quot;,Courier,monospace\">     ┌───┐\n",
       "q_0: ┤ X ├\n",
       "     ├───┤\n",
       "q_1: ┤ X ├\n",
       "     └───┘</pre>"
      ],
      "text/plain": [
       "     ┌───┐\n",
       "q_0: ┤ X ├\n",
       "     ├───┤\n",
       "q_1: ┤ X ├\n",
       "     └───┘"
      ]
     },
     "execution_count": 15,
     "metadata": {},
     "output_type": "execute_result"
    }
   ],
   "source": [
    "import qiskit\n",
    "from qiskit import QuantumCircuit\n",
    "\n",
    "qc = QuantumCircuit(2)\n",
    "qc.x(0)\n",
    "qc.x(1)\n",
    "qc.draw()"
   ]
  },
  {
   "cell_type": "code",
   "execution_count": null,
   "id": "d2a60042-b6e5-4b89-bfc3-1a105ba2fb49",
   "metadata": {},
   "outputs": [],
   "source": []
  },
  {
   "cell_type": "markdown",
   "id": "7a57cbcb-3279-4d76-99a3-12076ebeb778",
   "metadata": {},
   "source": [
    "You can export it in OpenQASM 3.0 using:"
   ]
  },
  {
   "cell_type": "code",
   "execution_count": 16,
   "id": "1bec4810-8ad9-4bb3-be3f-3e8cbc346158",
   "metadata": {},
   "outputs": [
    {
     "data": {
      "text/plain": [
       "'OPENQASM 3.0;\\ninclude \"stdgates.inc\";\\nqubit[2] q;\\nx q[0];\\nx q[1];\\n'"
      ]
     },
     "execution_count": 16,
     "metadata": {},
     "output_type": "execute_result"
    }
   ],
   "source": [
    "qiskit.qasm3.dumps(qc)"
   ]
  },
  {
   "cell_type": "markdown",
   "id": "3e6f90a3-d7eb-4536-beba-b817bf1705b0",
   "metadata": {},
   "source": [
    "## Running the circuit"
   ]
  },
  {
   "cell_type": "markdown",
   "id": "cb81e79a-f1d6-4e9c-be32-bcc2e14216d2",
   "metadata": {},
   "source": [
    "The more basic way to run the circuit in the Qmio QPU it is using Python's `qmio` module using a program like [run_circuit.py](run_circuit.py).\n",
    "\n",
    "Basically you import the `QmioRuntimeService`, you create a context whith the `qpu` backend\n",
    "\n",
    "\n",
    "```python\n",
    "from qmio import QmioRuntimeService\n",
    "   \n",
    "service = QmioRuntimeService()\n",
    "with service.backend(name=\"qpu\") as backend:\n",
    "    results = backend.run(circuit=circuit, shots=1000)\n",
    "\n",
    "```\n",
    "The backend context will take care of closing the connection\n",
    "\n",
    "The `result` variable returned has the following structure:\n",
    "\n",
    "```json\n",
    "    {\n",
    "        'results': {\n",
    "            'c': {\n",
    "                '00000000000000000000000000000000': 406,\n",
    "                '10000000000000000000000000000000': 594\n",
    "            }\n",
    "        },\n",
    "        'execution_metrics': {\n",
    "            'optimized_circuit': 'OPENQASM 3.0;\\ninclude \"qelib1.inc\";\\nqreg q[32];\\ncreg c[32];\\nx q[0];\\nmeasure q[0]->c[0];',\n",
    "            'optimized_instruction_count': 14\n",
    "        }\n",
    "    }\n",
    "```"
   ]
  },
  {
   "cell_type": "markdown",
   "id": "d8ce9b3c-aa77-4a3e-98ec-366813aafe17",
   "metadata": {},
   "source": [
    "## Creating a job script for SLURM"
   ]
  },
  {
   "cell_type": "markdown",
   "id": "45e9b192-fa2c-4b16-bec6-ff56b3498015",
   "metadata": {},
   "source": [
    "We will now create a job script [job.sh](job.sh) where we will define the resources needed by the job and that will take care of loading the needed module and running the previous python program."
   ]
  },
  {
   "cell_type": "markdown",
   "id": "6565d858-3549-42e9-bea9-df8df2a08f81",
   "metadata": {},
   "source": [
    "## Submitting the job to SLURM"
   ]
  },
  {
   "cell_type": "markdown",
   "id": "017cd8d0-077b-4b8a-b6dc-34d937627d12",
   "metadata": {},
   "source": [
    "Finally you can submit the job using:\n",
    "\n",
    "```bash\n",
    "sbatch job.sh\n",
    "```\n",
    "\n",
    "If you have a reservation in the system you can specify it:\n",
    "```bash\n",
    "sbatch --reservation my-reservation job.sh\n",
    "```"
   ]
  }
 ],
 "metadata": {
  "kernelspec": {
   "display_name": "Python 3 (ipykernel)",
   "language": "python",
   "name": "python3"
  },
  "language_info": {
   "codemirror_mode": {
    "name": "ipython",
    "version": 3
   },
   "file_extension": ".py",
   "mimetype": "text/x-python",
   "name": "python",
   "nbconvert_exporter": "python",
   "pygments_lexer": "ipython3",
   "version": "3.9.9"
  }
 },
 "nbformat": 4,
 "nbformat_minor": 5
}
