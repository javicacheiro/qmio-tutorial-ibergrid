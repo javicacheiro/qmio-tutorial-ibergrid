{
 "cells": [
  {
   "cell_type": "markdown",
   "id": "72701415-1965-4786-81eb-35fe1fc72607",
   "metadata": {},
   "source": [
    "# Qmio"
   ]
  },
  {
   "cell_type": "markdown",
   "id": "11f07ed3-41a0-4226-8e41-7c88d77ce389",
   "metadata": {
    "tags": []
   },
   "source": [
    "## Introduction\n",
    "QPU\n",
    "\n",
    "## QPU Architecture\n",
    "\n",
    "## QASM\n",
    "\n",
    "## SLURM\n",
    "\n",
    "## Calibrations"
   ]
  },
  {
   "cell_type": "markdown",
   "id": "c82368bf-2363-4ec3-a5b2-26b41b062da2",
   "metadata": {},
   "source": [
    "## Acknowledgements\n",
    "<center><img src=\"https://www.cesga.es/wp-content/uploads/2023/10/Cartel-FEDER-CUANTICA_vsetembro23-600x429.png\" /></center>"
   ]
  }
 ],
 "metadata": {
  "kernelspec": {
   "display_name": "Python 3 (ipykernel)",
   "language": "python",
   "name": "python3"
  },
  "language_info": {
   "codemirror_mode": {
    "name": "ipython",
    "version": 3
   },
   "file_extension": ".py",
   "mimetype": "text/x-python",
   "name": "python",
   "nbconvert_exporter": "python",
   "pygments_lexer": "ipython3",
   "version": "3.9.9"
  }
 },
 "nbformat": 4,
 "nbformat_minor": 5
}
