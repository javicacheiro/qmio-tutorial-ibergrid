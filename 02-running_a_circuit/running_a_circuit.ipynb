{
 "cells": [
  {
   "cell_type": "markdown",
   "id": "72701415-1965-4786-81eb-35fe1fc72607",
   "metadata": {},
   "source": [
    "# Running a quantum circuit"
   ]
  },
  {
   "cell_type": "markdown",
   "id": "11f07ed3-41a0-4226-8e41-7c88d77ce389",
   "metadata": {
    "tags": []
   },
   "source": [
    "## Introduction\n",
    "In this tutorial we will see how to run an existing quantum circuit.\n",
    "\n",
    "You can also create the quantum circuit from a library like Qiskit and load it directly in QASM format:\n",
    "```python\n",
    "circuit = qiskit.qasm3.dumps(qc)\n",
    "```\n",
    "\n",
    "The only requirement is that the circuit has **OpenQASM 3.0** format\n",
    "\n",
    "## How to run a circuit\n",
    "### Step 1: The quantum circuit\n",
    "In this tutorial we will suppose that the circuit has been created and stored in a file named [circuit.qasm](circuit.qasm).\n",
    "\n",
    "\n",
    "### Step 2: Creating a program to run the circuit\n",
    "To run the circuit in the Qmio QPU we will use the Python's `qmio` package that provides a pythonic interface to use the QPU:\n",
    "```python\n",
    "from qmio import QmioRuntimeService\n",
    "   \n",
    "service = QmioRuntimeService()\n",
    "with service.backend(name=\"qpu\") as backend:\n",
    "    results = backend.run(circuit=circuit, shots=1000)\n",
    "\n",
    "```\n",
    "The backend context will take care of closing the connection\n",
    "\n",
    "For this tutorial, we already have a program ready to use to run a circuit: [run_circuit.py](run_circuit.py).\n",
    "\n",
    "The `result` variable returned has the following structure:\n",
    "\n",
    "```json\n",
    "    {\n",
    "        'results': {\n",
    "            'c': {\n",
    "                '00000000000000000000000000000000': 406,\n",
    "                '10000000000000000000000000000000': 594\n",
    "            }\n",
    "        },\n",
    "        'execution_metrics': {\n",
    "            'optimized_circuit': 'OPENQASM 3.0;\\ninclude \"qelib1.inc\";\\nqreg q[32];\\ncreg c[32];\\nx q[0];\\nmeasure q[0]->c[0];',\n",
    "            'optimized_instruction_count': 14\n",
    "        }\n",
    "    }\n",
    "```\n",
    "\n",
    "The `qmio` package is included in the `qmio-run` Lmod module.\n",
    "\n",
    "### Step 3: Creating the job script\n",
    "We will now create a job script [job.sh](job.sh) where we will define the resources needed by the job and that will take care of loading the needed module and running the previous python program.\n",
    "\n",
    "### Step 4: Submitting the job\n",
    "Finally you can submit the job using:\n",
    "\n",
    "```bash\n",
    "sbatch job.sh\n",
    "```\n",
    "\n",
    "If you have a reservation in the system you can specify it:\n",
    "```bash\n",
    "sbatch --reservation my-reservation job.sh\n",
    "```\n",
    "\n",
    "You can check the status of the job with:\n",
    "```\n",
    "squeue\n",
    "```\n",
    "\n",
    "When the job is finished the output of the execution will be stored in two files like:\n",
    "- [single-circuit.o37770](single-circuit.o37770): contains the standard output of the program execution\n",
    "- [single-circuit.e37770](single-circuit.e37770): contains the standard error of the program execution\n",
    "The last part of the filename is the JobId."
   ]
  },
  {
   "cell_type": "markdown",
   "id": "c82368bf-2363-4ec3-a5b2-26b41b062da2",
   "metadata": {},
   "source": [
    "## Acknowledgements\n",
    "<center><img src=\"https://www.cesga.es/wp-content/uploads/2023/10/Cartel-FEDER-CUANTICA_vsetembro23-600x429.png\" /></center>"
   ]
  }
 ],
 "metadata": {
  "kernelspec": {
   "display_name": "Python 3 (ipykernel)",
   "language": "python",
   "name": "python3"
  },
  "language_info": {
   "codemirror_mode": {
    "name": "ipython",
    "version": 3
   },
   "file_extension": ".py",
   "mimetype": "text/x-python",
   "name": "python",
   "nbconvert_exporter": "python",
   "pygments_lexer": "ipython3",
   "version": "3.9.9"
  }
 },
 "nbformat": 4,
 "nbformat_minor": 5
}
